{
 "cells": [
  {
   "cell_type": "markdown",
   "metadata": {},
   "source": [
    "<h3> Logistic Regression with Cross Validation </h3>"
   ]
  },
  {
   "cell_type": "code",
   "execution_count": 1,
   "metadata": {
    "scrolled": true
   },
   "outputs": [
    {
     "data": {
      "text/html": [
       "<div>\n",
       "<style scoped>\n",
       "    .dataframe tbody tr th:only-of-type {\n",
       "        vertical-align: middle;\n",
       "    }\n",
       "\n",
       "    .dataframe tbody tr th {\n",
       "        vertical-align: top;\n",
       "    }\n",
       "\n",
       "    .dataframe thead th {\n",
       "        text-align: right;\n",
       "    }\n",
       "</style>\n",
       "<table border=\"1\" class=\"dataframe\">\n",
       "  <thead>\n",
       "    <tr style=\"text-align: right;\">\n",
       "      <th></th>\n",
       "      <th>Administrative</th>\n",
       "      <th>Administrative_Duration</th>\n",
       "      <th>Informational</th>\n",
       "      <th>Informational_Duration</th>\n",
       "      <th>ProductRelated</th>\n",
       "      <th>ProductRelated_Duration</th>\n",
       "      <th>BounceRates</th>\n",
       "      <th>ExitRates</th>\n",
       "      <th>PageValues</th>\n",
       "      <th>SpecialDay</th>\n",
       "      <th>...</th>\n",
       "      <th>Region_1.1</th>\n",
       "      <th>Region_2.1</th>\n",
       "      <th>Region_3.1</th>\n",
       "      <th>Region_4.1</th>\n",
       "      <th>Region_5.1</th>\n",
       "      <th>Region_6.1</th>\n",
       "      <th>Region_7.1</th>\n",
       "      <th>Region_8.1</th>\n",
       "      <th>Region_9.1</th>\n",
       "      <th>Revenue</th>\n",
       "    </tr>\n",
       "  </thead>\n",
       "  <tbody>\n",
       "    <tr>\n",
       "      <th>0</th>\n",
       "      <td>0</td>\n",
       "      <td>0.0</td>\n",
       "      <td>0</td>\n",
       "      <td>0.0</td>\n",
       "      <td>1</td>\n",
       "      <td>0.000000</td>\n",
       "      <td>0.200000</td>\n",
       "      <td>0.200000</td>\n",
       "      <td>0.0</td>\n",
       "      <td>0.0</td>\n",
       "      <td>...</td>\n",
       "      <td>1</td>\n",
       "      <td>0</td>\n",
       "      <td>0</td>\n",
       "      <td>0</td>\n",
       "      <td>0</td>\n",
       "      <td>0</td>\n",
       "      <td>0</td>\n",
       "      <td>0</td>\n",
       "      <td>0</td>\n",
       "      <td>0</td>\n",
       "    </tr>\n",
       "    <tr>\n",
       "      <th>1</th>\n",
       "      <td>0</td>\n",
       "      <td>0.0</td>\n",
       "      <td>0</td>\n",
       "      <td>0.0</td>\n",
       "      <td>2</td>\n",
       "      <td>64.000000</td>\n",
       "      <td>0.000000</td>\n",
       "      <td>0.100000</td>\n",
       "      <td>0.0</td>\n",
       "      <td>0.0</td>\n",
       "      <td>...</td>\n",
       "      <td>1</td>\n",
       "      <td>0</td>\n",
       "      <td>0</td>\n",
       "      <td>0</td>\n",
       "      <td>0</td>\n",
       "      <td>0</td>\n",
       "      <td>0</td>\n",
       "      <td>0</td>\n",
       "      <td>0</td>\n",
       "      <td>0</td>\n",
       "    </tr>\n",
       "    <tr>\n",
       "      <th>2</th>\n",
       "      <td>0</td>\n",
       "      <td>0.0</td>\n",
       "      <td>0</td>\n",
       "      <td>0.0</td>\n",
       "      <td>1</td>\n",
       "      <td>0.000000</td>\n",
       "      <td>0.200000</td>\n",
       "      <td>0.200000</td>\n",
       "      <td>0.0</td>\n",
       "      <td>0.0</td>\n",
       "      <td>...</td>\n",
       "      <td>0</td>\n",
       "      <td>0</td>\n",
       "      <td>0</td>\n",
       "      <td>0</td>\n",
       "      <td>0</td>\n",
       "      <td>0</td>\n",
       "      <td>0</td>\n",
       "      <td>0</td>\n",
       "      <td>1</td>\n",
       "      <td>0</td>\n",
       "    </tr>\n",
       "    <tr>\n",
       "      <th>3</th>\n",
       "      <td>0</td>\n",
       "      <td>0.0</td>\n",
       "      <td>0</td>\n",
       "      <td>0.0</td>\n",
       "      <td>2</td>\n",
       "      <td>2.666667</td>\n",
       "      <td>0.050000</td>\n",
       "      <td>0.140000</td>\n",
       "      <td>0.0</td>\n",
       "      <td>0.0</td>\n",
       "      <td>...</td>\n",
       "      <td>0</td>\n",
       "      <td>1</td>\n",
       "      <td>0</td>\n",
       "      <td>0</td>\n",
       "      <td>0</td>\n",
       "      <td>0</td>\n",
       "      <td>0</td>\n",
       "      <td>0</td>\n",
       "      <td>0</td>\n",
       "      <td>0</td>\n",
       "    </tr>\n",
       "    <tr>\n",
       "      <th>4</th>\n",
       "      <td>0</td>\n",
       "      <td>0.0</td>\n",
       "      <td>0</td>\n",
       "      <td>0.0</td>\n",
       "      <td>10</td>\n",
       "      <td>627.500000</td>\n",
       "      <td>0.020000</td>\n",
       "      <td>0.050000</td>\n",
       "      <td>0.0</td>\n",
       "      <td>0.0</td>\n",
       "      <td>...</td>\n",
       "      <td>1</td>\n",
       "      <td>0</td>\n",
       "      <td>0</td>\n",
       "      <td>0</td>\n",
       "      <td>0</td>\n",
       "      <td>0</td>\n",
       "      <td>0</td>\n",
       "      <td>0</td>\n",
       "      <td>0</td>\n",
       "      <td>0</td>\n",
       "    </tr>\n",
       "    <tr>\n",
       "      <th>5</th>\n",
       "      <td>0</td>\n",
       "      <td>0.0</td>\n",
       "      <td>0</td>\n",
       "      <td>0.0</td>\n",
       "      <td>19</td>\n",
       "      <td>154.216667</td>\n",
       "      <td>0.015789</td>\n",
       "      <td>0.024561</td>\n",
       "      <td>0.0</td>\n",
       "      <td>0.0</td>\n",
       "      <td>...</td>\n",
       "      <td>1</td>\n",
       "      <td>0</td>\n",
       "      <td>0</td>\n",
       "      <td>0</td>\n",
       "      <td>0</td>\n",
       "      <td>0</td>\n",
       "      <td>0</td>\n",
       "      <td>0</td>\n",
       "      <td>0</td>\n",
       "      <td>0</td>\n",
       "    </tr>\n",
       "    <tr>\n",
       "      <th>6</th>\n",
       "      <td>0</td>\n",
       "      <td>0.0</td>\n",
       "      <td>0</td>\n",
       "      <td>0.0</td>\n",
       "      <td>1</td>\n",
       "      <td>0.000000</td>\n",
       "      <td>0.200000</td>\n",
       "      <td>0.200000</td>\n",
       "      <td>0.0</td>\n",
       "      <td>0.4</td>\n",
       "      <td>...</td>\n",
       "      <td>0</td>\n",
       "      <td>0</td>\n",
       "      <td>1</td>\n",
       "      <td>0</td>\n",
       "      <td>0</td>\n",
       "      <td>0</td>\n",
       "      <td>0</td>\n",
       "      <td>0</td>\n",
       "      <td>0</td>\n",
       "      <td>0</td>\n",
       "    </tr>\n",
       "    <tr>\n",
       "      <th>7</th>\n",
       "      <td>1</td>\n",
       "      <td>0.0</td>\n",
       "      <td>0</td>\n",
       "      <td>0.0</td>\n",
       "      <td>0</td>\n",
       "      <td>0.000000</td>\n",
       "      <td>0.200000</td>\n",
       "      <td>0.200000</td>\n",
       "      <td>0.0</td>\n",
       "      <td>0.0</td>\n",
       "      <td>...</td>\n",
       "      <td>1</td>\n",
       "      <td>0</td>\n",
       "      <td>0</td>\n",
       "      <td>0</td>\n",
       "      <td>0</td>\n",
       "      <td>0</td>\n",
       "      <td>0</td>\n",
       "      <td>0</td>\n",
       "      <td>0</td>\n",
       "      <td>0</td>\n",
       "    </tr>\n",
       "    <tr>\n",
       "      <th>8</th>\n",
       "      <td>0</td>\n",
       "      <td>0.0</td>\n",
       "      <td>0</td>\n",
       "      <td>0.0</td>\n",
       "      <td>2</td>\n",
       "      <td>37.000000</td>\n",
       "      <td>0.000000</td>\n",
       "      <td>0.100000</td>\n",
       "      <td>0.0</td>\n",
       "      <td>0.8</td>\n",
       "      <td>...</td>\n",
       "      <td>0</td>\n",
       "      <td>1</td>\n",
       "      <td>0</td>\n",
       "      <td>0</td>\n",
       "      <td>0</td>\n",
       "      <td>0</td>\n",
       "      <td>0</td>\n",
       "      <td>0</td>\n",
       "      <td>0</td>\n",
       "      <td>0</td>\n",
       "    </tr>\n",
       "    <tr>\n",
       "      <th>9</th>\n",
       "      <td>0</td>\n",
       "      <td>0.0</td>\n",
       "      <td>0</td>\n",
       "      <td>0.0</td>\n",
       "      <td>3</td>\n",
       "      <td>738.000000</td>\n",
       "      <td>0.000000</td>\n",
       "      <td>0.022222</td>\n",
       "      <td>0.0</td>\n",
       "      <td>0.4</td>\n",
       "      <td>...</td>\n",
       "      <td>1</td>\n",
       "      <td>0</td>\n",
       "      <td>0</td>\n",
       "      <td>0</td>\n",
       "      <td>0</td>\n",
       "      <td>0</td>\n",
       "      <td>0</td>\n",
       "      <td>0</td>\n",
       "      <td>0</td>\n",
       "      <td>0</td>\n",
       "    </tr>\n",
       "  </tbody>\n",
       "</table>\n",
       "<p>10 rows × 78 columns</p>\n",
       "</div>"
      ],
      "text/plain": [
       "   Administrative  Administrative_Duration  Informational  \\\n",
       "0               0                      0.0              0   \n",
       "1               0                      0.0              0   \n",
       "2               0                      0.0              0   \n",
       "3               0                      0.0              0   \n",
       "4               0                      0.0              0   \n",
       "5               0                      0.0              0   \n",
       "6               0                      0.0              0   \n",
       "7               1                      0.0              0   \n",
       "8               0                      0.0              0   \n",
       "9               0                      0.0              0   \n",
       "\n",
       "   Informational_Duration  ProductRelated  ProductRelated_Duration  \\\n",
       "0                     0.0               1                 0.000000   \n",
       "1                     0.0               2                64.000000   \n",
       "2                     0.0               1                 0.000000   \n",
       "3                     0.0               2                 2.666667   \n",
       "4                     0.0              10               627.500000   \n",
       "5                     0.0              19               154.216667   \n",
       "6                     0.0               1                 0.000000   \n",
       "7                     0.0               0                 0.000000   \n",
       "8                     0.0               2                37.000000   \n",
       "9                     0.0               3               738.000000   \n",
       "\n",
       "   BounceRates  ExitRates  PageValues  SpecialDay  ...  Region_1.1  \\\n",
       "0     0.200000   0.200000         0.0         0.0  ...           1   \n",
       "1     0.000000   0.100000         0.0         0.0  ...           1   \n",
       "2     0.200000   0.200000         0.0         0.0  ...           0   \n",
       "3     0.050000   0.140000         0.0         0.0  ...           0   \n",
       "4     0.020000   0.050000         0.0         0.0  ...           1   \n",
       "5     0.015789   0.024561         0.0         0.0  ...           1   \n",
       "6     0.200000   0.200000         0.0         0.4  ...           0   \n",
       "7     0.200000   0.200000         0.0         0.0  ...           1   \n",
       "8     0.000000   0.100000         0.0         0.8  ...           0   \n",
       "9     0.000000   0.022222         0.0         0.4  ...           1   \n",
       "\n",
       "   Region_2.1  Region_3.1  Region_4.1  Region_5.1  Region_6.1  Region_7.1  \\\n",
       "0           0           0           0           0           0           0   \n",
       "1           0           0           0           0           0           0   \n",
       "2           0           0           0           0           0           0   \n",
       "3           1           0           0           0           0           0   \n",
       "4           0           0           0           0           0           0   \n",
       "5           0           0           0           0           0           0   \n",
       "6           0           1           0           0           0           0   \n",
       "7           0           0           0           0           0           0   \n",
       "8           1           0           0           0           0           0   \n",
       "9           0           0           0           0           0           0   \n",
       "\n",
       "   Region_8.1  Region_9.1  Revenue  \n",
       "0           0           0        0  \n",
       "1           0           0        0  \n",
       "2           0           1        0  \n",
       "3           0           0        0  \n",
       "4           0           0        0  \n",
       "5           0           0        0  \n",
       "6           0           0        0  \n",
       "7           0           0        0  \n",
       "8           0           0        0  \n",
       "9           0           0        0  \n",
       "\n",
       "[10 rows x 78 columns]"
      ]
     },
     "execution_count": 1,
     "metadata": {},
     "output_type": "execute_result"
    }
   ],
   "source": [
    "import pandas as pd\n",
    "feats=pd.read_csv('osi_project_feats_final.csv')\n",
    "targets=pd.read_csv('osi_project_target_final.csv')\n",
    "pd.concat([feats,targets],axis=1).head(10)"
   ]
  },
  {
   "cell_type": "code",
   "execution_count": 2,
   "metadata": {},
   "outputs": [],
   "source": [
    "from sklearn.linear_model import LogisticRegressionCV\n",
    "from sklearn.model_selection import train_test_split"
   ]
  },
  {
   "cell_type": "code",
   "execution_count": 3,
   "metadata": {},
   "outputs": [],
   "source": [
    "X_train,X_test,y_train,y_test=train_test_split(feats,targets,test_size=0.2)"
   ]
  },
  {
   "cell_type": "code",
   "execution_count": 4,
   "metadata": {},
   "outputs": [
    {
     "data": {
      "text/plain": [
       "((9864, 77), (2466, 77), (9864, 1), (2466, 1))"
      ]
     },
     "execution_count": 4,
     "metadata": {},
     "output_type": "execute_result"
    }
   ],
   "source": [
    "X_train.shape, X_test.shape, y_train.shape, y_test.shape"
   ]
  },
  {
   "cell_type": "code",
   "execution_count": 5,
   "metadata": {},
   "outputs": [],
   "source": [
    "import numpy as np\n",
    "cs=np.logspace(-2,6,9)\n",
    "model=LogisticRegressionCV(Cs=cs,solver='liblinear', penalty='l1',max_iter=1000,cv=10)"
   ]
  },
  {
   "cell_type": "code",
   "execution_count": 6,
   "metadata": {
    "scrolled": true
   },
   "outputs": [
    {
     "name": "stderr",
     "output_type": "stream",
     "text": [
      "/home/surya/anaconda3/lib/python3.7/site-packages/sklearn/utils/validation.py:724: DataConversionWarning: A column-vector y was passed when a 1d array was expected. Please change the shape of y to (n_samples, ), for example using ravel().\n",
      "  y = column_or_1d(y, warn=True)\n"
     ]
    },
    {
     "data": {
      "text/plain": [
       "LogisticRegressionCV(Cs=array([1.e-02, 1.e-01, 1.e+00, 1.e+01, 1.e+02, 1.e+03, 1.e+04, 1.e+05,\n",
       "       1.e+06]),\n",
       "                     class_weight=None, cv=10, dual=False, fit_intercept=True,\n",
       "                     intercept_scaling=1.0, l1_ratios=None, max_iter=1000,\n",
       "                     multi_class='warn', n_jobs=None, penalty='l1',\n",
       "                     random_state=None, refit=True, scoring=None,\n",
       "                     solver='liblinear', tol=0.0001, verbose=0)"
      ]
     },
     "execution_count": 6,
     "metadata": {},
     "output_type": "execute_result"
    }
   ],
   "source": [
    "model.fit(X_train,y_train)"
   ]
  },
  {
   "cell_type": "code",
   "execution_count": 7,
   "metadata": {
    "scrolled": true
   },
   "outputs": [
    {
     "name": "stdout",
     "output_type": "stream",
     "text": [
      "Administrative:-0.0018790993314962646\n",
      "Administrative_Duration:-4.548363042763614e-05\n",
      "BounceRates:-6.813702728663806\n",
      "Browser_1:-0.13672466252672758\n",
      "Browser_10:0.038089464634897624\n",
      "Browser_11:-4.13315801374234\n",
      "Browser_12:1.4070064922388361\n",
      "Browser_13:-0.29832277263476226\n",
      "Browser_2:-0.30540966083412213\n",
      "Browser_3:-1.0993236639767474\n",
      "Browser_4:-0.20265722815522402\n",
      "Browser_5:-0.02390294563540278\n",
      "Browser_6:-0.6543104154714308\n",
      "Browser_7:-0.25369117934857377\n",
      "Browser_8:-0.10558242857998121\n",
      "ExitRates:-13.111379259894203\n",
      "Informational:0.03569442613965114\n",
      "Informational_Duration:-6.58391457235089e-05\n",
      "Month_Aug:-0.2579500550661326\n",
      "Month_Dec:-0.9777604560661882\n",
      "Month_Feb:-1.8652367306008255\n",
      "Month_Jul:-0.20673648789187954\n",
      "Month_June:-0.5263245316144363\n",
      "Month_Mar:-0.9254106661545525\n",
      "Month_May:-0.8437946579635531\n",
      "Month_Nov:0.2316363131428874\n",
      "Month_Oct:-0.36842060285785144\n",
      "Month_Sep:-0.28140183065990004\n",
      "OperatingSystems_1:0.009758926954126265\n",
      "OperatingSystems_2:0.20109392757851355\n",
      "OperatingSystems_3:0.0644021739369591\n",
      "OperatingSystems_4:0.012851300676141174\n",
      "OperatingSystems_8:0.5483459654118714\n",
      "PageValues:0.08761213088805171\n",
      "ProductRelated:0.0028778486537793403\n",
      "ProductRelated_Duration:5.102149730118707e-05\n",
      "Region_1:-0.5569633414241897\n",
      "Region_1.1:-0.6936249782623514\n",
      "Region_2:-0.37330796644696157\n",
      "Region_2.1:-0.7575465313556133\n",
      "Region_3:0.3406195030484628\n",
      "Region_3.1:-1.6053006841171724\n",
      "Region_4:-1.114331876608359\n",
      "Region_4.1:-0.1515299927254998\n",
      "Region_5:-0.6310621951439074\n",
      "Region_5.1:-0.8259289733036169\n",
      "Region_6:-0.4548897547347005\n",
      "Region_6.1:-0.9460055579923985\n",
      "Region_7:-0.6006785196066644\n",
      "Region_7.1:-0.6989931398466606\n",
      "Region_8:-0.488354788850038\n",
      "Region_8.1:-0.5696689939054304\n",
      "Region_9:-0.06276976918153888\n",
      "Region_9.1:-1.6544249017126076\n",
      "SpecialDay:0.13253837768457682\n",
      "TrafficType_1:-0.6332423821473264\n",
      "TrafficType_10:-0.2207201941644682\n",
      "TrafficType_11:-0.13789280197395387\n",
      "TrafficType_12:-1.6535932564753308\n",
      "TrafficType_13:-1.0111368726515915\n",
      "TrafficType_14:-1.0731663299522711\n",
      "TrafficType_15:-5.437753939986836\n",
      "TrafficType_16:1.3003949623056827\n",
      "TrafficType_18:-4.1440050189946165\n",
      "TrafficType_19:-1.8076493841307495\n",
      "TrafficType_2:-0.4564263422931664\n",
      "TrafficType_20:-0.35061296706054845\n",
      "TrafficType_3:-0.7765040499259834\n",
      "TrafficType_4:-0.6398298967932148\n",
      "TrafficType_5:-0.44948438899177323\n",
      "TrafficType_6:-0.6864243051283921\n",
      "TrafficType_7:-0.23608660208428758\n",
      "TrafficType_8:-0.03480706039794687\n",
      "TrafficType_9:-0.6659243795472048\n",
      "VisitorType_New_Visitor:0.6426144467075678\n",
      "VisitorType_Returning_Visitor:0.3988580350420162\n",
      "Weekend:0.09755964133964395\n"
     ]
    }
   ],
   "source": [
    "coeffs=[f'{param}:{coeff}' for param,coeff in sorted(zip(X_train.columns.tolist(),model.coef_[0]))]\n",
    "for c in coeffs:\n",
    "    print(c)"
   ]
  },
  {
   "cell_type": "code",
   "execution_count": 8,
   "metadata": {},
   "outputs": [
    {
     "name": "stdout",
     "output_type": "stream",
     "text": [
      "Best parameter for L1 regularization: 100.0\n"
     ]
    }
   ],
   "source": [
    "print('Best parameter for L1 regularization:', model.C_[0])"
   ]
  },
  {
   "cell_type": "code",
   "execution_count": 9,
   "metadata": {},
   "outputs": [
    {
     "name": "stdout",
     "output_type": "stream",
     "text": [
      "0.870235198702352\n"
     ]
    }
   ],
   "source": [
    "from sklearn.metrics import accuracy_score\n",
    "y_pred=model.predict(X_test)\n",
    "print(accuracy_score(y_pred=y_pred,y_true=y_test))"
   ]
  },
  {
   "cell_type": "code",
   "execution_count": 10,
   "metadata": {},
   "outputs": [
    {
     "name": "stdout",
     "output_type": "stream",
     "text": [
      "[[1998   64]\n",
      " [ 256  148]]\n"
     ]
    }
   ],
   "source": [
    "from sklearn.metrics import confusion_matrix\n",
    "cm=confusion_matrix(y_pred=y_pred,y_true=y_test)\n",
    "print(cm)"
   ]
  },
  {
   "cell_type": "code",
   "execution_count": 11,
   "metadata": {},
   "outputs": [],
   "source": [
    "from sklearn.metrics import precision_recall_fscore_support\n",
    "precision,recall,fscore,_=precision_recall_fscore_support(y_pred=y_pred,y_true=y_test,average='macro')"
   ]
  },
  {
   "cell_type": "code",
   "execution_count": 12,
   "metadata": {},
   "outputs": [
    {
     "name": "stdout",
     "output_type": "stream",
     "text": [
      "Precision: 0.7922686712092548  Recall: 0.6676494031556405  fscore: 0.703188377887173\n"
     ]
    }
   ],
   "source": [
    "print('Precision:',precision,' Recall:',recall,' fscore:',fscore)"
   ]
  },
  {
   "cell_type": "code",
   "execution_count": 13,
   "metadata": {},
   "outputs": [],
   "source": [
    "from sklearn.metrics import roc_curve\n",
    "y_pred_proba=model.predict_proba(X_test)\n",
    "fpr,tpr,threshold=roc_curve(y_test,y_pred_proba[:,1])"
   ]
  },
  {
   "cell_type": "code",
   "execution_count": 14,
   "metadata": {},
   "outputs": [
    {
     "data": {
      "text/plain": [
       "array([0.9570479 , 0.95186508, 0.74868427, ..., 0.88664424, 0.13110733,\n",
       "       0.97383567])"
      ]
     },
     "execution_count": 14,
     "metadata": {},
     "output_type": "execute_result"
    }
   ],
   "source": [
    "y_pred_proba[:,0]"
   ]
  },
  {
   "cell_type": "code",
   "execution_count": 15,
   "metadata": {},
   "outputs": [
    {
     "data": {
      "text/plain": [
       "(440, 440)"
      ]
     },
     "execution_count": 15,
     "metadata": {},
     "output_type": "execute_result"
    }
   ],
   "source": [
    "len(tpr),len(fpr)"
   ]
  },
  {
   "cell_type": "code",
   "execution_count": 16,
   "metadata": {},
   "outputs": [
    {
     "data": {
      "image/png": "[encoded data removed]",
      "text/plain": [
       "<Figure size 432x288 with 1 Axes>"
      ]
     },
     "metadata": {
      "needs_background": "light"
     },
     "output_type": "display_data"
    }
   ],
   "source": [
    "import matplotlib.pyplot as plt\n",
    "%matplotlib inline\n",
    "plt.plot((fpr),tpr)\n",
    "plt.title('AUROC curve')\n",
    "plt.xlabel('False Positive Rate')\n",
    "plt.ylabel('True Positive Rate')\n",
    "plt.grid(True)"
   ]
  },
  {
   "cell_type": "code",
   "execution_count": 17,
   "metadata": {},
   "outputs": [
    {
     "name": "stdout",
     "output_type": "stream",
     "text": [
      "0.8847773477638743\n"
     ]
    }
   ],
   "source": [
    "from sklearn.metrics import roc_auc_score\n",
    "print(roc_auc_score(y_test,y_pred_proba[:,1]))"
   ]
  },
  {
   "cell_type": "markdown",
   "metadata": {},
   "source": [
    "<h3>Using L2</h3>"
   ]
  },
  {
   "cell_type": "code",
   "execution_count": 18,
   "metadata": {},
   "outputs": [],
   "source": [
    "model=LogisticRegressionCV(Cs=cs, penalty='l2',max_iter=1000,cv=10)"
   ]
  },
  {
   "cell_type": "code",
   "execution_count": 19,
   "metadata": {},
   "outputs": [
    {
     "name": "stderr",
     "output_type": "stream",
     "text": [
      "/home/surya/anaconda3/lib/python3.7/site-packages/sklearn/utils/validation.py:724: DataConversionWarning: A column-vector y was passed when a 1d array was expected. Please change the shape of y to (n_samples, ), for example using ravel().\n",
      "  y = column_or_1d(y, warn=True)\n",
      "/home/surya/anaconda3/lib/python3.7/site-packages/sklearn/linear_model/logistic.py:947: ConvergenceWarning: lbfgs failed to converge. Increase the number of iterations.\n",
      "  \"of iterations.\", ConvergenceWarning)\n",
      "/home/surya/anaconda3/lib/python3.7/site-packages/sklearn/linear_model/logistic.py:947: ConvergenceWarning: lbfgs failed to converge. Increase the number of iterations.\n",
      "  \"of iterations.\", ConvergenceWarning)\n",
      "/home/surya/anaconda3/lib/python3.7/site-packages/sklearn/linear_model/logistic.py:947: ConvergenceWarning: lbfgs failed to converge. Increase the number of iterations.\n",
      "  \"of iterations.\", ConvergenceWarning)\n",
      "/home/surya/anaconda3/lib/python3.7/site-packages/sklearn/linear_model/logistic.py:947: ConvergenceWarning: lbfgs failed to converge. Increase the number of iterations.\n",
      "  \"of iterations.\", ConvergenceWarning)\n",
      "/home/surya/anaconda3/lib/python3.7/site-packages/sklearn/linear_model/logistic.py:947: ConvergenceWarning: lbfgs failed to converge. Increase the number of iterations.\n",
      "  \"of iterations.\", ConvergenceWarning)\n",
      "/home/surya/anaconda3/lib/python3.7/site-packages/sklearn/linear_model/logistic.py:947: ConvergenceWarning: lbfgs failed to converge. Increase the number of iterations.\n",
      "  \"of iterations.\", ConvergenceWarning)\n",
      "/home/surya/anaconda3/lib/python3.7/site-packages/sklearn/linear_model/logistic.py:947: ConvergenceWarning: lbfgs failed to converge. Increase the number of iterations.\n",
      "  \"of iterations.\", ConvergenceWarning)\n",
      "/home/surya/anaconda3/lib/python3.7/site-packages/sklearn/linear_model/logistic.py:947: ConvergenceWarning: lbfgs failed to converge. Increase the number of iterations.\n",
      "  \"of iterations.\", ConvergenceWarning)\n",
      "/home/surya/anaconda3/lib/python3.7/site-packages/sklearn/linear_model/logistic.py:947: ConvergenceWarning: lbfgs failed to converge. Increase the number of iterations.\n",
      "  \"of iterations.\", ConvergenceWarning)\n",
      "/home/surya/anaconda3/lib/python3.7/site-packages/sklearn/linear_model/logistic.py:947: ConvergenceWarning: lbfgs failed to converge. Increase the number of iterations.\n",
      "  \"of iterations.\", ConvergenceWarning)\n"
     ]
    },
    {
     "data": {
      "text/plain": [
       "LogisticRegressionCV(Cs=array([1.e-02, 1.e-01, 1.e+00, 1.e+01, 1.e+02, 1.e+03, 1.e+04, 1.e+05,\n",
       "       1.e+06]),\n",
       "                     class_weight=None, cv=10, dual=False, fit_intercept=True,\n",
       "                     intercept_scaling=1.0, l1_ratios=None, max_iter=1000,\n",
       "                     multi_class='warn', n_jobs=None, penalty='l2',\n",
       "                     random_state=None, refit=True, scoring=None,\n",
       "                     solver='lbfgs', tol=0.0001, verbose=0)"
      ]
     },
     "execution_count": 19,
     "metadata": {},
     "output_type": "execute_result"
    }
   ],
   "source": [
    "model.fit(X_train,y_train)"
   ]
  },
  {
   "cell_type": "code",
   "execution_count": 20,
   "metadata": {
    "scrolled": true
   },
   "outputs": [
    {
     "name": "stdout",
     "output_type": "stream",
     "text": [
      "0.8678021086780211\n"
     ]
    }
   ],
   "source": [
    "y_pred=model.predict(X_test)\n",
    "print(accuracy_score(y_pred=y_pred,y_true=y_test))"
   ]
  },
  {
   "cell_type": "code",
   "execution_count": 27,
   "metadata": {},
   "outputs": [
    {
     "name": "stdout",
     "output_type": "stream",
     "text": [
      "Best parameter for L2 regularization: 100000.0\n",
      "Administrative:0.016425133792899293\n",
      "Administrative_Duration:3.3954942560052227e-06\n",
      "BounceRates:-0.2050542299326269\n",
      "Browser_1:-0.06282659184812225\n",
      "Browser_10:0.06698315756071885\n",
      "Browser_11:-0.009653694439864061\n",
      "Browser_12:0.03601583528137232\n",
      "Browser_13:-0.04804524747694419\n",
      "Browser_2:-0.11329212070382871\n",
      "Browser_3:-0.11197246872137404\n",
      "Browser_4:-0.017062775210899956\n",
      "Browser_5:0.05941000990888111\n",
      "Browser_6:-0.12737010395744458\n",
      "Browser_7:-0.0068926631789696935\n",
      "Browser_8:-0.0017897753408310328\n",
      "ExitRates:-0.2514990412687235\n",
      "Informational:0.03455265450119752\n",
      "Informational_Duration:-0.00013614425783641708\n",
      "Month_Aug:0.08518134251945134\n",
      "Month_Dec:-0.411721694401978\n",
      "Month_Feb:-0.1705207988823758\n",
      "Month_Jul:0.09704746799286487\n",
      "Month_June:-0.07196388680395127\n",
      "Month_Mar:-0.32944698058179084\n",
      "Month_May:-0.37366600813087575\n",
      "Month_Nov:0.6968308217697489\n",
      "Month_Oct:0.055065865162015996\n",
      "Month_Sep:0.08548234032265045\n",
      "OperatingSystems_1:-0.08482257106834674\n",
      "OperatingSystems_2:0.05256617728830566\n",
      "OperatingSystems_3:-0.19567797762560538\n",
      "OperatingSystems_4:-0.05375596559213179\n",
      "OperatingSystems_8:-0.03051556354385621\n",
      "PageValues:0.09247767431548361\n",
      "ProductRelated:0.004694843240316911\n",
      "ProductRelated_Duration:3.827557233461113e-05\n",
      "Region_1:-0.0019761346430457643\n",
      "Region_1.1:-0.0019761346430457643\n",
      "Region_2:0.04868279724775407\n",
      "Region_2.1:0.04868279724775407\n",
      "Region_3:-0.02115077372052737\n",
      "Region_3.1:-0.02115077372052737\n",
      "Region_4:-0.014899034833532476\n",
      "Region_4.1:-0.014899034833532476\n",
      "Region_5:-0.08315874287084549\n",
      "Region_5.1:-0.08315874287084549\n",
      "Region_6:-0.07835173915375791\n",
      "Region_6.1:-0.07835173915375791\n",
      "Region_7:-0.03118972725457244\n",
      "Region_7.1:-0.03118972725457244\n",
      "Region_8:0.051972901094846376\n",
      "Region_8.1:0.051972901094846376\n",
      "Region_9:-0.2076410768382943\n",
      "Region_9.1:-0.2076410768382943\n",
      "SpecialDay:-0.10881461490007624\n",
      "TrafficType_1:-0.2105973130015144\n",
      "TrafficType_10:0.17883466851363736\n",
      "TrafficType_11:0.13458928779358292\n",
      "TrafficType_12:-0.0011503679935882562\n",
      "TrafficType_13:-0.3717844478613645\n",
      "TrafficType_14:-0.01130667717610077\n",
      "TrafficType_15:-0.048632534854349194\n",
      "TrafficType_16:0.02252652917604108\n",
      "TrafficType_18:-0.010243007309210132\n",
      "TrafficType_19:-0.02480169218023282\n",
      "TrafficType_2:0.12730978581690716\n",
      "TrafficType_20:0.0027924783026148053\n",
      "TrafficType_3:-0.2946779581078068\n",
      "TrafficType_4:-0.03327650801405063\n",
      "TrafficType_5:0.0672949209714388\n",
      "TrafficType_6:-0.0916660323334375\n",
      "TrafficType_7:0.01891061993037096\n",
      "TrafficType_8:0.22234016029576312\n",
      "TrafficType_9:-0.013076648013416984\n",
      "VisitorType_New_Visitor:0.12115698526512213\n",
      "VisitorType_Returning_Visitor:-0.35377419013995726\n",
      "Weekend:0.14277986940577397\n"
     ]
    }
   ],
   "source": [
    "print('Best parameter for L2 regularization:', model.C_[0])\n",
    "coeffs=[f'{param}:{coeff}' for param,coeff in sorted(zip(X_train.columns.tolist(),model.coef_[0]))]\n",
    "for c in coeffs:\n",
    "    print(c)"
   ]
  },
  {
   "cell_type": "code",
   "execution_count": 21,
   "metadata": {},
   "outputs": [
    {
     "name": "stdout",
     "output_type": "stream",
     "text": [
      "[[1995   67]\n",
      " [ 259  145]]\n"
     ]
    }
   ],
   "source": [
    "cm=confusion_matrix(y_pred=y_pred,y_true=y_test)\n",
    "print(cm)"
   ]
  },
  {
   "cell_type": "code",
   "execution_count": 23,
   "metadata": {},
   "outputs": [
    {
     "name": "stdout",
     "output_type": "stream",
     "text": [
      "Precision: 0.7845277159264034  Recall: 0.6632090827899473  fscore: 0.6976231599725575\n"
     ]
    }
   ],
   "source": [
    "precision,recall,fscore,_=precision_recall_fscore_support(y_pred=y_pred,y_true=y_test,average='macro')\n",
    "print('Precision:',precision,' Recall:',recall,' fscore:',fscore)"
   ]
  },
  {
   "cell_type": "code",
   "execution_count": 24,
   "metadata": {},
   "outputs": [
    {
     "data": {
      "image/png": "[encoded data removed]",
      "text/plain": [
       "<Figure size 432x288 with 1 Axes>"
      ]
     },
     "metadata": {
      "needs_background": "light"
     },
     "output_type": "display_data"
    }
   ],
   "source": [
    "y_pred_proba=model.predict_proba(X_test)\n",
    "fpr,tpr,threshold=roc_curve(y_test,y_pred_proba[:,1])\n",
    "plt.plot((fpr),tpr)\n",
    "plt.title('AUROC curve')\n",
    "plt.xlabel('False Positive Rate')\n",
    "plt.ylabel('True Positive Rate')\n",
    "plt.grid(True)"
   ]
  },
  {
   "cell_type": "code",
   "execution_count": 25,
   "metadata": {},
   "outputs": [
    {
     "name": "stdout",
     "output_type": "stream",
     "text": [
      "0.8947683686894392\n"
     ]
    }
   ],
   "source": [
    "print(roc_auc_score(y_test,y_pred_proba[:,1]))"
   ]
  },
  {
   "cell_type": "markdown",
   "metadata": {},
   "source": [
    "As area under ROC curve for L2 regularization for logistic regression is higher as comapred to logistic regression with L1 regularization so we can conclude the Logistic regression with L2 regularization and regularization parameter 100000 is best fitting"
   ]
  },
  {
   "cell_type": "code",
   "execution_count": null,
   "metadata": {},
   "outputs": [],
   "source": []
  }
 ],
 "metadata": {
  "kernelspec": {
   "display_name": "Python 3",
   "language": "python",
   "name": "python3"
  },
  "language_info": {
   "codemirror_mode": {
    "name": "ipython",
    "version": 3
   },
   "file_extension": ".py",
   "mimetype": "text/x-python",
   "name": "python",
   "nbconvert_exporter": "python",
   "pygments_lexer": "ipython3",
   "version": "3.7.4"
  }
 },
 "nbformat": 4,
 "nbformat_minor": 2
}
